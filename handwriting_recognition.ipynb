{
 "cells": [
  {
   "cell_type": "markdown",
   "id": "6409324c-b272-4952-b044-6932ec25845f",
   "metadata": {
    "tags": []
   },
   "source": [
    "## Imports"
   ]
  },
  {
   "cell_type": "code",
   "execution_count": 16,
   "id": "d1a52256-5ed5-43f4-9c29-9b36756867c1",
   "metadata": {},
   "outputs": [],
   "source": [
    "from numpy.random import seed\n",
    "seed(888)\n",
    "import tensorflow as tf\n",
    "tf.random.set_seed(404)"
   ]
  },
  {
   "cell_type": "code",
   "execution_count": 1,
   "id": "7c119406-9503-4a02-afe5-2b00031b560b",
   "metadata": {},
   "outputs": [],
   "source": [
    "import os\n",
    "import numpy as np\n",
    "import pandas as pd\n",
    "from time import strftime\n",
    "from PIL import Image"
   ]
  },
  {
   "cell_type": "markdown",
   "id": "3533f8de-b361-411d-ab44-1e523f1deff5",
   "metadata": {},
   "source": [
    "## Constants"
   ]
  },
  {
   "cell_type": "code",
   "execution_count": 2,
   "id": "20f2a9de-ba03-4b37-bcc4-a1e108e18113",
   "metadata": {},
   "outputs": [],
   "source": [
    "X_TRAIN_PATH = 'MNIST/digit_xtrain.csv'\n",
    "X_TEST_PATH = 'MNIST/digit_xtest.csv'\n",
    "Y_TRAIN_PATH = 'MNIST/digit_ytrain.csv'\n",
    "Y_TEST_PATH = 'MNIST/digit_ytest.csv'\n",
    "\n",
    "test_skicar = 'test_number.png'\n",
    "\n",
    "LOGGING_PATH = 'tensorboard_mnist_digit_logs'\n",
    "NR_CLASSES = 10\n",
    "VALIDATION_SIZE = 10000\n",
    "IMAGE_WIDTH = 28\n",
    "IMAGE_HEIGHT = 28\n",
    "CHANNELS = 1\n",
    "TOTAL_INPUTS = IMAGE_HEIGHT * IMAGE_WIDTH * CHANNELS"
   ]
  },
  {
   "cell_type": "code",
   "execution_count": null,
   "id": "e603554e-7b3c-4490-8477-a87aa882b6f5",
   "metadata": {},
   "outputs": [],
   "source": []
  },
  {
   "cell_type": "markdown",
   "id": "8528c469-7709-4a8b-9174-3c34f67d023c",
   "metadata": {},
   "source": [
    "## Get the data"
   ]
  },
  {
   "cell_type": "code",
   "execution_count": 3,
   "id": "f4f206bf-5464-40a0-b0f0-2c29ca203cce",
   "metadata": {},
   "outputs": [
    {
     "name": "stdout",
     "output_type": "stream",
     "text": [
      "CPU times: total: 17.3 s\n",
      "Wall time: 17.4 s\n"
     ]
    }
   ],
   "source": [
    "%%time\n",
    "\n",
    "y_train_all = np.loadtxt(Y_TRAIN_PATH, delimiter=',', dtype=int)\n",
    "y_test = np.loadtxt(Y_TEST_PATH, delimiter=',', dtype=int)\n",
    "x_train_all = np.loadtxt(X_TRAIN_PATH, delimiter=',', dtype=int)\n",
    "x_test = np.loadtxt(X_TEST_PATH, delimiter=',', dtype=int)"
   ]
  },
  {
   "cell_type": "code",
   "execution_count": 4,
   "id": "94c37ddb-3506-4eba-87c3-26d29fea3e65",
   "metadata": {},
   "outputs": [
    {
     "data": {
      "text/plain": [
       "(60000,)"
      ]
     },
     "execution_count": 4,
     "metadata": {},
     "output_type": "execute_result"
    }
   ],
   "source": [
    "y_train_all.shape"
   ]
  },
  {
   "cell_type": "code",
   "execution_count": 5,
   "id": "4deb8404-fa42-4968-ab1b-ae6807a1db1a",
   "metadata": {},
   "outputs": [
    {
     "data": {
      "text/plain": [
       "(60000,)"
      ]
     },
     "execution_count": 5,
     "metadata": {},
     "output_type": "execute_result"
    }
   ],
   "source": [
    "y_train_all.shape"
   ]
  },
  {
   "cell_type": "markdown",
   "id": "83ff61c2-8d35-4f7e-91dc-e84cb27020e5",
   "metadata": {},
   "source": [
    "## Data preprocessing"
   ]
  },
  {
   "cell_type": "code",
   "execution_count": 6,
   "id": "706fd541-6865-4aab-92a7-d3d76fccf6b3",
   "metadata": {},
   "outputs": [],
   "source": [
    "# Re-scale \n",
    "x_train_all, x_test = x_train_all/ 255.0, x_test/ 255.0"
   ]
  },
  {
   "cell_type": "markdown",
   "id": "316f5bc1-906e-4d8e-90cf-47ed9ed70a60",
   "metadata": {},
   "source": [
    "#### Covert target values to one-hot encoding"
   ]
  },
  {
   "cell_type": "code",
   "execution_count": 7,
   "id": "396a5f8a-f62b-4ad2-b561-3ebbe4271cdb",
   "metadata": {},
   "outputs": [
    {
     "data": {
      "text/plain": [
       "array([[0., 0., 0., 0., 0., 1., 0., 0., 0., 0.],\n",
       "       [1., 0., 0., 0., 0., 0., 0., 0., 0., 0.],\n",
       "       [0., 0., 0., 0., 1., 0., 0., 0., 0., 0.],\n",
       "       [0., 1., 0., 0., 0., 0., 0., 0., 0., 0.],\n",
       "       [0., 0., 0., 0., 0., 0., 0., 0., 0., 1.]])"
      ]
     },
     "execution_count": 7,
     "metadata": {},
     "output_type": "execute_result"
    }
   ],
   "source": [
    "values = y_train_all[:5]\n",
    "np.eye(10)[values]"
   ]
  },
  {
   "cell_type": "code",
   "execution_count": 8,
   "id": "e5cc255c-1690-43c8-b901-c9f987572175",
   "metadata": {},
   "outputs": [],
   "source": [
    "y_train_all = np.eye(NR_CLASSES)[y_train_all]"
   ]
  },
  {
   "cell_type": "code",
   "execution_count": 9,
   "id": "3fa4c206-1b2f-4715-b698-7eeb118f0c88",
   "metadata": {},
   "outputs": [],
   "source": [
    "y_test = np.eye(NR_CLASSES)[y_test]"
   ]
  },
  {
   "cell_type": "markdown",
   "id": "5c7eb484-e406-4a74-8ea6-870625fa07e2",
   "metadata": {},
   "source": [
    "### Create validation dataset from training data"
   ]
  },
  {
   "cell_type": "code",
   "execution_count": 17,
   "id": "10bacce9-5493-47c9-80a5-0cf0925e913f",
   "metadata": {},
   "outputs": [],
   "source": [
    "x_val = x_train_all[:VALIDATION_SIZE]\n",
    "y_val = y_train_all[:VALIDATION_SIZE]\n",
    "x_train = x_train_all[VALIDATION_SIZE:]\n",
    "y_train = y_train_all[VALIDATION_SIZE:]"
   ]
  },
  {
   "cell_type": "code",
   "execution_count": 18,
   "id": "b4ee2ab8-08a7-4fbc-b9e5-4370928efaf0",
   "metadata": {},
   "outputs": [
    {
     "data": {
      "text/plain": [
       "(50000, 784)"
      ]
     },
     "execution_count": 18,
     "metadata": {},
     "output_type": "execute_result"
    }
   ],
   "source": [
    "x_train.shape"
   ]
  },
  {
   "cell_type": "markdown",
   "id": "f693cfca-e752-4880-8971-4d4487e52cc6",
   "metadata": {},
   "source": [
    "### Setup Tensorflow Graph"
   ]
  },
  {
   "cell_type": "code",
   "execution_count": 19,
   "id": "c9f2f75c-e02d-41bf-81de-41a07857242d",
   "metadata": {},
   "outputs": [],
   "source": [
    "tf.compat.v1.disable_eager_execution()\n",
    "X = tf.compat.v1.placeholder(tf.float32, shape=[None, TOTAL_INPUTS])\n",
    "Y = tf.compat.v1.placeholder(tf.float32, shape=[None, NR_CLASSES])"
   ]
  },
  {
   "cell_type": "markdown",
   "id": "8b62b841-be9f-484c-b7e6-4a568c976aa6",
   "metadata": {},
   "source": [
    "### NN Architecture\n",
    "#### Hyperparameters"
   ]
  },
  {
   "cell_type": "code",
   "execution_count": 20,
   "id": "633c7fb1-a38a-40b3-a4b4-87007a90dff3",
   "metadata": {},
   "outputs": [],
   "source": [
    "nr_epochs = 30\n",
    "learning_rate = 1e-3\n",
    "\n",
    "n_hidden1 = 512\n",
    "n_hidden2 = 64"
   ]
  },
  {
   "cell_type": "markdown",
   "id": "de71fa90-f3ea-4520-9362-8a2500df0263",
   "metadata": {},
   "source": [
    "### Layer 1"
   ]
  },
  {
   "cell_type": "code",
   "execution_count": 21,
   "id": "cf0d1898-dfc4-400a-826b-05b7cd39b4bb",
   "metadata": {},
   "outputs": [],
   "source": [
    "initial_w1 = tf.compat.v1.truncated_normal(shape=[TOTAL_INPUTS, n_hidden1], stddev=0.1, seed=42)\n",
    "w1 = tf.Variable(initial_value=initial_w1)\n",
    "\n",
    "initial_b1 = tf.constant(value=0.0, shape=[n_hidden1])\n",
    "b1 = tf.Variable(initial_value=initial_b1)"
   ]
  },
  {
   "cell_type": "code",
   "execution_count": 22,
   "id": "6b0c8825-ed81-42ac-9d39-3db1cb62a364",
   "metadata": {},
   "outputs": [],
   "source": [
    "layer1_in = tf.matmul(X, w1) + b1\n",
    "layer1_out = tf.nn.relu(layer1_in)"
   ]
  },
  {
   "cell_type": "markdown",
   "id": "d514fff5-22cf-4f7b-80d9-ffdd043ffe1a",
   "metadata": {},
   "source": [
    "### Layer 2"
   ]
  },
  {
   "cell_type": "code",
   "execution_count": 23,
   "id": "202a1c2d-a9f8-492d-9616-c18a169ffbf6",
   "metadata": {},
   "outputs": [],
   "source": [
    "initial_w2 = tf.compat.v1.truncated_normal(shape=[n_hidden1, n_hidden2], stddev=0.1, seed=42)\n",
    "w2 = tf.Variable(initial_value=initial_w2)\n",
    "\n",
    "initial_b2 = tf.constant(value=0.0, shape=[n_hidden2])\n",
    "b2 = tf.Variable(initial_value=initial_b2)"
   ]
  },
  {
   "cell_type": "code",
   "execution_count": 24,
   "id": "467821e6-26db-4912-9ede-571d9b13831d",
   "metadata": {},
   "outputs": [],
   "source": [
    "layer2_in = tf.matmul(layer1_out, w2) + b2\n",
    "layer2_out = tf.nn.relu(layer2_in)"
   ]
  },
  {
   "cell_type": "markdown",
   "id": "b245d4f2-4b0e-41e9-8f56-994266b95b12",
   "metadata": {},
   "source": [
    "### Layer 3"
   ]
  },
  {
   "cell_type": "code",
   "execution_count": 25,
   "id": "05af3cac-33d2-46ee-8cef-8fc830ae9e5e",
   "metadata": {},
   "outputs": [],
   "source": [
    "initial_w3 = tf.compat.v1.truncated_normal(shape=[n_hidden2, NR_CLASSES], stddev=0.1, seed=42)\n",
    "w3 = tf.Variable(initial_value=initial_w3)\n",
    "\n",
    "initial_b3 = tf.constant(value=0.0, shape=[NR_CLASSES])\n",
    "b3 = tf.Variable(initial_value=initial_b3)"
   ]
  },
  {
   "cell_type": "code",
   "execution_count": 26,
   "id": "df393f18-3691-4eec-ada1-da064924141f",
   "metadata": {},
   "outputs": [],
   "source": [
    "layer3_in = tf.matmul(layer2_out, w3) + b3\n",
    "output = tf.nn.softmax(layer3_in)"
   ]
  },
  {
   "cell_type": "markdown",
   "id": "9e283bb1-1fb8-4042-8f26-d871e81f68d7",
   "metadata": {},
   "source": [
    "### Loss, Optimisation & Metrics"
   ]
  },
  {
   "cell_type": "code",
   "execution_count": 27,
   "id": "f4831e26-b631-435e-91a0-17fe6824a656",
   "metadata": {},
   "outputs": [],
   "source": [
    "loss = tf.reduce_mean(tf.nn.softmax_cross_entropy_with_logits(labels=Y, logits=output))"
   ]
  },
  {
   "cell_type": "code",
   "execution_count": 28,
   "id": "4e465cd5-d0e5-4d92-8c90-a1bbde72411c",
   "metadata": {},
   "outputs": [],
   "source": [
    "optimizer = tf.compat.v1.train.AdamOptimizer(learning_rate=learning_rate)\n",
    "train_step = optimizer.minimize(loss)"
   ]
  },
  {
   "cell_type": "markdown",
   "id": "1121a6db-b11a-4b64-b121-27aa2d0fb87c",
   "metadata": {},
   "source": [
    "### Accuracy Metric"
   ]
  },
  {
   "cell_type": "code",
   "execution_count": 29,
   "id": "cdb14d42-89af-4e64-9153-4c04badb274b",
   "metadata": {},
   "outputs": [],
   "source": [
    "correct_pred = tf.equal(tf.argmax(output, axis=1), tf.argmax(Y, axis=1))\n",
    "accuracy = tf.reduce_mean(tf.cast(correct_pred, tf.float32))"
   ]
  },
  {
   "cell_type": "code",
   "execution_count": 30,
   "id": "654151cf-2139-4a45-9fec-13d1dd3353eb",
   "metadata": {},
   "outputs": [
    {
     "data": {
      "text/plain": [
       "<tf.Tensor 'loss/write_summary/Const:0' shape=() dtype=bool>"
      ]
     },
     "execution_count": 30,
     "metadata": {},
     "output_type": "execute_result"
    }
   ],
   "source": [
    "tf.summary.scalar('accuracy', accuracy)\n",
    "tf.summary.scalar('loss', loss)"
   ]
  },
  {
   "cell_type": "markdown",
   "id": "c156811b-d78f-4081-bda4-286f827cd55c",
   "metadata": {},
   "source": [
    "# Run Session"
   ]
  },
  {
   "cell_type": "code",
   "execution_count": 31,
   "id": "80f531b2-7e4d-4202-bdbe-4b8a997c88bd",
   "metadata": {},
   "outputs": [],
   "source": [
    "sess = tf.compat.v1.Session()"
   ]
  },
  {
   "cell_type": "markdown",
   "id": "88fd47f4-e4ba-43ef-b24f-03c15ef9ad26",
   "metadata": {},
   "source": [
    "# Tensorboard Setup"
   ]
  },
  {
   "cell_type": "code",
   "execution_count": 32,
   "id": "7ffbf795-2371-46bc-8e92-0071f8df9392",
   "metadata": {},
   "outputs": [
    {
     "name": "stdout",
     "output_type": "stream",
     "text": [
      "Successfully created directory\n"
     ]
    }
   ],
   "source": [
    "# Folder for tensorboard\n",
    "model_name = 'Model HW'\n",
    "\n",
    "folder_name = f'{model_name} at {strftime(\"%H %M\")}'\n",
    "directory = os.path.join(LOGGING_PATH, folder_name)\n",
    "\n",
    "try:\n",
    "    os.makedirs(directory)\n",
    "except OSError as exception:\n",
    "    print(exception.strerror)\n",
    "else:\n",
    "    print('Successfully created directory')"
   ]
  },
  {
   "cell_type": "markdown",
   "id": "0bc0b950-bd81-4c48-af7e-b8b46ba64804",
   "metadata": {},
   "source": [
    "### Setup filewriter and merge summaries"
   ]
  },
  {
   "cell_type": "code",
   "execution_count": 33,
   "id": "89efcef9-7f48-44ad-9bb6-5ef9e97a4a5c",
   "metadata": {},
   "outputs": [],
   "source": [
    "merged_summary = tf.compat.v1.summary.merge_all()\n",
    "train_writer = tf.compat.v1.summary.FileWriter(directory + '/train')\n",
    "train_writer.add_graph(sess.graph)\n",
    "\n",
    "validation_writer = tf.compat.v1.summary.FileWriter(directory + '/validation')"
   ]
  },
  {
   "cell_type": "code",
   "execution_count": 34,
   "id": "e58ab0ac-296f-435b-8c6e-4902feda850d",
   "metadata": {},
   "outputs": [],
   "source": [
    "init = tf.compat.v1.global_variables_initializer()\n",
    "sess.run(init)"
   ]
  },
  {
   "cell_type": "code",
   "execution_count": 35,
   "id": "d9a48fb0-3e64-4823-8ee2-01c2b9bab05f",
   "metadata": {},
   "outputs": [
    {
     "data": {
      "text/plain": [
       "array([0., 0., 0., 0., 0., 0., 0., 0., 0., 0.], dtype=float32)"
      ]
     },
     "execution_count": 35,
     "metadata": {},
     "output_type": "execute_result"
    }
   ],
   "source": [
    "b3.eval(sess)"
   ]
  },
  {
   "cell_type": "markdown",
   "id": "3027998c-b867-4ef6-bb07-34dc42638128",
   "metadata": {},
   "source": [
    "## Batching the data"
   ]
  },
  {
   "cell_type": "code",
   "execution_count": 36,
   "id": "3fe5363f-1f49-4e26-bb1e-2fe558ab76b1",
   "metadata": {},
   "outputs": [],
   "source": [
    "size_of_batch = 1000\n",
    "num_examples = y_train.shape[0]\n",
    "nr_iterations = int(num_examples/size_of_batch)\n",
    "\n",
    "index_in_epoch = 0"
   ]
  },
  {
   "cell_type": "code",
   "execution_count": 37,
   "id": "823805b6-24f3-4e46-901f-dc5a2a094166",
   "metadata": {},
   "outputs": [],
   "source": [
    "def next_batch(batch_size, data, labels):\n",
    "    \n",
    "    global num_examples\n",
    "    global index_in_epoch\n",
    "    \n",
    "    start = index_in_epoch\n",
    "    index_in_epoch += batch_size\n",
    "\n",
    "    if index_in_epoch > num_examples:\n",
    "        start = 0\n",
    "        index_in_epoch = batch_size\n",
    "        \n",
    "    end = index_in_epoch\n",
    "        \n",
    "    return data[start:end], labels[start:end]\n",
    "    "
   ]
  },
  {
   "cell_type": "code",
   "execution_count": 38,
   "id": "315e9ad5-c27a-4f9b-98a7-d996a5613ad4",
   "metadata": {},
   "outputs": [
    {
     "data": {
      "text/plain": [
       "<tf.Tensor 'accuracy_1:0' shape=() dtype=string>"
      ]
     },
     "execution_count": 38,
     "metadata": {},
     "output_type": "execute_result"
    }
   ],
   "source": [
    "tf.compat.v1.summary.scalar('accuracy', accuracy)"
   ]
  },
  {
   "cell_type": "code",
   "execution_count": 39,
   "id": "e8ff5031-39bf-4870-b9f9-e12f051599a8",
   "metadata": {},
   "outputs": [],
   "source": [
    "# for epoch in range(nr_epochs):\n",
    "#     for i in range (nr_iterations):\n",
    "#         batch_x, batch_y = next_batch(batch_size=size_of_batch,\n",
    "#                                      data=x_train,\n",
    "#                                      labels=y_train)\n",
    "#         feed_dictionary = {X:batch_x, Y:batch_y}\n",
    "#         sess.run(train_step, feed_dict=feed_dictionary)\n",
    "#     s, batch_accuracy = sess.run(fetches=[merged_summary, accuracy], feed_dict=feed_dictionary)\n",
    "#     train_writer.add_summary(s, epoch)\n",
    "#     print(f'Epoch {epoch} \\t| Training Accuracy = {batch_accuracy}')\n",
    "# print('Done training')"
   ]
  },
  {
   "cell_type": "code",
   "execution_count": 40,
   "id": "3e7dd732-fe9a-4f00-a532-944b5cfe311a",
   "metadata": {},
   "outputs": [
    {
     "name": "stdout",
     "output_type": "stream",
     "text": [
      "Epoch 0 \t| Training Accuracy = 0.859000027179718\n",
      "Epoch 1 \t| Training Accuracy = 0.8669999837875366\n",
      "Epoch 2 \t| Training Accuracy = 0.8709999918937683\n",
      "Epoch 3 \t| Training Accuracy = 0.875\n",
      "Epoch 4 \t| Training Accuracy = 0.8769999742507935\n",
      "Epoch 5 \t| Training Accuracy = 0.9629999995231628\n",
      "Epoch 6 \t| Training Accuracy = 0.9829999804496765\n",
      "Epoch 7 \t| Training Accuracy = 0.9860000014305115\n",
      "Epoch 8 \t| Training Accuracy = 0.984000027179718\n",
      "Epoch 9 \t| Training Accuracy = 0.9860000014305115\n",
      "Epoch 10 \t| Training Accuracy = 0.9869999885559082\n",
      "Epoch 11 \t| Training Accuracy = 0.9879999756813049\n",
      "Epoch 12 \t| Training Accuracy = 0.9890000224113464\n",
      "Epoch 13 \t| Training Accuracy = 0.9879999756813049\n",
      "Epoch 14 \t| Training Accuracy = 0.9890000224113464\n",
      "Epoch 15 \t| Training Accuracy = 0.9900000095367432\n",
      "Epoch 16 \t| Training Accuracy = 0.9909999966621399\n",
      "Epoch 17 \t| Training Accuracy = 0.9909999966621399\n",
      "Epoch 18 \t| Training Accuracy = 0.9909999966621399\n",
      "Epoch 19 \t| Training Accuracy = 0.9909999966621399\n",
      "Epoch 20 \t| Training Accuracy = 0.9909999966621399\n",
      "Epoch 21 \t| Training Accuracy = 0.9909999966621399\n",
      "Epoch 22 \t| Training Accuracy = 0.9919999837875366\n",
      "Epoch 23 \t| Training Accuracy = 0.9909999966621399\n",
      "Epoch 24 \t| Training Accuracy = 0.9900000095367432\n",
      "Epoch 25 \t| Training Accuracy = 0.9929999709129333\n",
      "Epoch 26 \t| Training Accuracy = 0.9929999709129333\n",
      "Epoch 27 \t| Training Accuracy = 0.9929999709129333\n",
      "Epoch 28 \t| Training Accuracy = 0.9929999709129333\n",
      "Epoch 29 \t| Training Accuracy = 0.9929999709129333\n",
      "Done training!\n"
     ]
    }
   ],
   "source": [
    "merged_summary = tf.compat.v1.summary.merge_all()\n",
    "for epoch in range(nr_epochs):\n",
    "    \n",
    "    # ============= Training Dataset =========\n",
    "    for i in range(nr_iterations):\n",
    "        \n",
    "        batch_x, batch_y = next_batch(batch_size=size_of_batch, data=x_train, labels=y_train)\n",
    "        \n",
    "        feed_dictionary = {X:batch_x, Y:batch_y}\n",
    "        \n",
    "        sess.run(train_step, feed_dict=feed_dictionary)\n",
    "        \n",
    "    \n",
    "    s, batch_accuracy = sess.run(fetches=[merged_summary, accuracy], feed_dict=feed_dictionary)  \n",
    "    train_writer.add_summary(s, epoch)\n",
    "    \n",
    "    print(f'Epoch {epoch} \\t| Training Accuracy = {batch_accuracy}')\n",
    "    \n",
    "    # ================== Validation ======================\n",
    "    \n",
    "    summary = sess.run(fetches=merged_summary, feed_dict={X:x_val, Y:y_val})\n",
    "    validation_writer.add_summary(summary, epoch)\n",
    "\n",
    "print('Done training!')"
   ]
  },
  {
   "cell_type": "markdown",
   "id": "94990a84-6029-42d5-aec3-fdebaacc4c18",
   "metadata": {},
   "source": [
    "## Make a prediction"
   ]
  },
  {
   "cell_type": "code",
   "execution_count": 41,
   "id": "fb25d7bd-0c66-48af-ac27-d39585892a63",
   "metadata": {},
   "outputs": [],
   "source": [
    "img = Image.open('MNIST/test_img.png')"
   ]
  },
  {
   "cell_type": "code",
   "execution_count": 42,
   "id": "39f42463-8104-4595-9ef8-e3fc44fd116c",
   "metadata": {},
   "outputs": [],
   "source": [
    "bw = img.convert('L')"
   ]
  },
  {
   "cell_type": "code",
   "execution_count": 43,
   "id": "cf86a2c3-86aa-4208-b9af-02ae96c39e7c",
   "metadata": {},
   "outputs": [],
   "source": [
    "img_array = np.invert(bw)"
   ]
  },
  {
   "cell_type": "code",
   "execution_count": 44,
   "id": "b510c970-ad1c-438c-96e6-b076f65b9b5b",
   "metadata": {},
   "outputs": [
    {
     "data": {
      "text/plain": [
       "(28, 28)"
      ]
     },
     "execution_count": 44,
     "metadata": {},
     "output_type": "execute_result"
    }
   ],
   "source": [
    "img_array.shape"
   ]
  },
  {
   "cell_type": "code",
   "execution_count": null,
   "id": "5736bd30-28c0-4000-9bdc-e3eebba1602c",
   "metadata": {},
   "outputs": [],
   "source": []
  },
  {
   "cell_type": "code",
   "execution_count": 45,
   "id": "efdbc06d-c9c0-4bca-8a25-8493ed1c1c44",
   "metadata": {},
   "outputs": [],
   "source": [
    "number = Image.open(test_skicar)\n",
    "bw2 = number.convert('L')\n",
    "img_array2 = np.invert(bw2)\n",
    "test_img2 = img_array2.ravel()"
   ]
  },
  {
   "cell_type": "code",
   "execution_count": 46,
   "id": "33c916de-51d0-404a-bbdf-594d3a4fc379",
   "metadata": {},
   "outputs": [],
   "source": [
    "test_img = img_array.ravel()"
   ]
  },
  {
   "cell_type": "code",
   "execution_count": 47,
   "id": "00cff343-7708-4f21-bfb9-ecfe1a967d73",
   "metadata": {},
   "outputs": [],
   "source": [
    "number = Image.open(test_skicar)\n",
    "bw2 = number.convert('L')\n",
    "img_array2 = np.invert(bw2)\n",
    "test_img2 = img_array2.ravel()"
   ]
  },
  {
   "cell_type": "code",
   "execution_count": 48,
   "id": "3810e601-1494-4a13-9f0b-ae9f69e3a160",
   "metadata": {},
   "outputs": [
    {
     "data": {
      "text/plain": [
       "(784,)"
      ]
     },
     "execution_count": 48,
     "metadata": {},
     "output_type": "execute_result"
    }
   ],
   "source": [
    "test_img2.shape"
   ]
  },
  {
   "cell_type": "code",
   "execution_count": 49,
   "id": "48b42aa2-7f40-4c2b-828e-af47a7bc350b",
   "metadata": {},
   "outputs": [],
   "source": [
    "prediction = sess.run(fetches=tf.argmax(output, axis=1), feed_dict={X: [test_img2]})"
   ]
  },
  {
   "cell_type": "code",
   "execution_count": 50,
   "id": "3fc307c5-01c9-4bf6-89d0-968c04689379",
   "metadata": {},
   "outputs": [
    {
     "data": {
      "image/png": "[encoded data removed]",
      "text/plain": [
       "<PIL.PngImagePlugin.PngImageFile image mode=RGB size=28x28>"
      ]
     },
     "execution_count": 50,
     "metadata": {},
     "output_type": "execute_result"
    }
   ],
   "source": [
    "number ## Test image"
   ]
  },
  {
   "cell_type": "code",
   "execution_count": 51,
   "id": "612eb74e-4719-43d1-8deb-3f02596a6d09",
   "metadata": {},
   "outputs": [
    {
     "name": "stdout",
     "output_type": "stream",
     "text": [
      "Prediction for test image is [2]\n"
     ]
    }
   ],
   "source": [
    "print(f'Prediction for test image is {prediction}')"
   ]
  },
  {
   "cell_type": "markdown",
   "id": "36dd9f43-2d46-474c-852b-0114777bb1a1",
   "metadata": {},
   "source": [
    "# Reset for the next run"
   ]
  },
  {
   "cell_type": "code",
   "execution_count": 52,
   "id": "09ddc91c-fd06-4d89-857d-be31c52240ed",
   "metadata": {},
   "outputs": [],
   "source": [
    "# train_writer.close()\n",
    "# tf.compat.v1.reset_default_graph\n",
    "# validation_writer.close()\n",
    "# sess.close()"
   ]
  },
  {
   "cell_type": "code",
   "execution_count": null,
   "id": "6ea23f77-c74c-49a5-9251-1b38bd69c48e",
   "metadata": {},
   "outputs": [],
   "source": []
  }
 ],
 "metadata": {
  "kernelspec": {
   "display_name": "Python 3 (ipykernel)",
   "language": "python",
   "name": "python3"
  },
  "language_info": {
   "codemirror_mode": {
    "name": "ipython",
    "version": 3
   },
   "file_extension": ".py",
   "mimetype": "text/x-python",
   "name": "python",
   "nbconvert_exporter": "python",
   "pygments_lexer": "ipython3",
   "version": "3.10.4"
  }
 },
 "nbformat": 4,
 "nbformat_minor": 5
}
